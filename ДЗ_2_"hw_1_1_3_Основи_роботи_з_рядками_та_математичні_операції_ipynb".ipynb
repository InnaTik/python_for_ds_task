{
  "nbformat": 4,
  "nbformat_minor": 0,
  "metadata": {
    "colab": {
      "provenance": [],
      "include_colab_link": true
    },
    "kernelspec": {
      "name": "python3",
      "display_name": "Python 3"
    },
    "language_info": {
      "name": "python"
    }
  },
  "cells": [
    {
      "cell_type": "markdown",
      "metadata": {
        "id": "view-in-github",
        "colab_type": "text"
      },
      "source": [
        "<a href=\"https://colab.research.google.com/github/InnaTik/python_for_ds_task/blob/main/%D0%94%D0%97_2_%22hw_1_1_3_%D0%9E%D1%81%D0%BD%D0%BE%D0%B2%D0%B8_%D1%80%D0%BE%D0%B1%D0%BE%D1%82%D0%B8_%D0%B7_%D1%80%D1%8F%D0%B4%D0%BA%D0%B0%D0%BC%D0%B8_%D1%82%D0%B0_%D0%BC%D0%B0%D1%82%D0%B5%D0%BC%D0%B0%D1%82%D0%B8%D1%87%D0%BD%D1%96_%D0%BE%D0%BF%D0%B5%D1%80%D0%B0%D1%86%D1%96%D1%97_ipynb%22.ipynb\" target=\"_parent\"><img src=\"https://colab.research.google.com/assets/colab-badge.svg\" alt=\"Open In Colab\"/></a>"
      ]
    },
    {
      "cell_type": "markdown",
      "source": [
        "# Домашнє завдання до теми \"Основи роботи з рядками та математичні операції\""
      ],
      "metadata": {
        "id": "9ngpqNFm8w1a"
      }
    },
    {
      "cell_type": "markdown",
      "source": [
        "1. Створіть змінні `a`, `b`, `c` та `d`, задайте їм значення відповідно 101, 210, 111, 402, та обчисліть з допомогою Python наступний вираз:  $$ \\frac{(a+b) * c}{d} $$\n",
        "\n",
        "**Важливо**: тут ми маємо обчислити значення саме з використанням змінних, а не просто чисел, як би ми робили у калькуряторі. Змінні потрібні аби за бажання ми могли змінити їх значення та не переписувати код обчислення виразу, бо він буде працювати для різних значень змінних."
      ],
      "metadata": {
        "id": "DEkQSeSyTum-"
      }
    },
    {
      "cell_type": "code",
      "source": [
        "a=101\n",
        "b=210\n",
        "c=111\n",
        "d=402"
      ],
      "metadata": {
        "id": "u1ICQq5L3eKH"
      },
      "execution_count": 1,
      "outputs": []
    },
    {
      "cell_type": "code",
      "source": [
        "((a+b)*c)/d"
      ],
      "metadata": {
        "colab": {
          "base_uri": "https://localhost:8080/"
        },
        "id": "RWnoAa9FltBt",
        "outputId": "9d28f5c1-1f83-4dcc-97f9-ab67244347ee"
      },
      "execution_count": 2,
      "outputs": [
        {
          "output_type": "execute_result",
          "data": {
            "text/plain": [
              "85.8731343283582"
            ]
          },
          "metadata": {},
          "execution_count": 2
        }
      ]
    },
    {
      "cell_type": "markdown",
      "source": [
        "Очікувана відповідь: 85.8731343283582"
      ],
      "metadata": {
        "id": "FnBVPt7G3bcR"
      }
    },
    {
      "cell_type": "markdown",
      "source": [
        "2. Якою буде остача від ділення числа 11283 на 89? Обчисліть з допомогою Python."
      ],
      "metadata": {
        "id": "HI3eEYZRT4Cn"
      }
    },
    {
      "cell_type": "code",
      "execution_count": 48,
      "metadata": {
        "id": "ejZc3ng_TpgY",
        "colab": {
          "base_uri": "https://localhost:8080/"
        },
        "outputId": "cacf8fbd-57b3-424d-bb54-4e04a7caeafc"
      },
      "outputs": [
        {
          "output_type": "stream",
          "name": "stdout",
          "text": [
            "Залишок від ділення: 69\n"
          ]
        }
      ],
      "source": [
        "f=11283\n",
        "d=89\n",
        "\n",
        "e = f % d\n",
        "\n",
        "print(\"Залишок від ділення:\",e)"
      ]
    },
    {
      "cell_type": "markdown",
      "source": [
        "3. Скільки цілих разів поміститься число 89 в 11283? (Або що те саме: який буде результат цілочисельного ділення 11283 на 89?)"
      ],
      "metadata": {
        "id": "RO02CqdqT9oG"
      }
    },
    {
      "cell_type": "code",
      "source": [
        "f=11283\n",
        "d=89\n",
        "\n",
        "h = f // d\n",
        "\n",
        "print(\"Ціла частина від ділення:\",h)"
      ],
      "metadata": {
        "id": "KEUb9lO5T_PI",
        "colab": {
          "base_uri": "https://localhost:8080/"
        },
        "outputId": "7cd49ea9-8cad-4ed4-d470-9783f9fae2fe"
      },
      "execution_count": 7,
      "outputs": [
        {
          "output_type": "stream",
          "name": "stdout",
          "text": [
            "Ціла частина від ділення: 126\n"
          ]
        }
      ]
    },
    {
      "cell_type": "markdown",
      "source": [
        "4. Запишіть у змінну `name` ваше імʼя."
      ],
      "metadata": {
        "id": "5fnIPumiT_rt"
      }
    },
    {
      "cell_type": "code",
      "source": [
        "name = 'Inna'"
      ],
      "metadata": {
        "id": "xP7Mbq45UFlV"
      },
      "execution_count": 8,
      "outputs": []
    },
    {
      "cell_type": "markdown",
      "source": [
        "5. Запишіть у змінну `surname` ваше прізвище."
      ],
      "metadata": {
        "id": "fR9TqY79UNDL"
      }
    },
    {
      "cell_type": "code",
      "source": [
        "surname = 'Tykhomyrova'"
      ],
      "metadata": {
        "id": "0qHjyMyvUOM1"
      },
      "execution_count": 9,
      "outputs": []
    },
    {
      "cell_type": "markdown",
      "source": [
        "6. Сконкатенуйте імʼя та прізвище в одну фразу через пробіл. Запишіть результат у нову змінну `name_surname` та виведіть результат на екран.  "
      ],
      "metadata": {
        "id": "zqKncQLwUOxh"
      }
    },
    {
      "cell_type": "code",
      "source": [
        "name_surname = name + \" \" + surname"
      ],
      "metadata": {
        "id": "8E-blvN-UTPg"
      },
      "execution_count": 10,
      "outputs": []
    },
    {
      "cell_type": "code",
      "source": [
        "name_surname"
      ],
      "metadata": {
        "colab": {
          "base_uri": "https://localhost:8080/",
          "height": 35
        },
        "id": "sVCGvp8Qn7nm",
        "outputId": "05f3fe95-a407-4a60-ed63-9df817a6fab0"
      },
      "execution_count": 11,
      "outputs": [
        {
          "output_type": "execute_result",
          "data": {
            "text/plain": [
              "'Inna Tykhomyrova'"
            ],
            "application/vnd.google.colaboratory.intrinsic+json": {
              "type": "string"
            }
          },
          "metadata": {},
          "execution_count": 11
        }
      ]
    },
    {
      "cell_type": "markdown",
      "source": [
        "Очікувана відповідь (тільки з вашими даними): 'Hanna Pylieva'"
      ],
      "metadata": {
        "id": "_Unl7EXlUgYn"
      }
    },
    {
      "cell_type": "markdown",
      "source": [
        "7. Зробіть усі літери змінної `name_surname` заглавними використовуючи метод рядків в Python:"
      ],
      "metadata": {
        "id": "z-3FI0IrUT0U"
      }
    },
    {
      "cell_type": "code",
      "source": [
        "name_surname.upper()"
      ],
      "metadata": {
        "id": "9ahIwyT5UblY",
        "colab": {
          "base_uri": "https://localhost:8080/",
          "height": 35
        },
        "outputId": "3e1fc3d9-f6f4-4433-9f30-554c20297d0b"
      },
      "execution_count": 12,
      "outputs": [
        {
          "output_type": "execute_result",
          "data": {
            "text/plain": [
              "'INNA TYKHOMYROVA'"
            ],
            "application/vnd.google.colaboratory.intrinsic+json": {
              "type": "string"
            }
          },
          "metadata": {},
          "execution_count": 12
        }
      ]
    },
    {
      "cell_type": "markdown",
      "source": [
        "Очікувана відповідь (тільки з вашими даними): 'HANNA PYLIEVA'"
      ],
      "metadata": {
        "id": "6PDcqfmdUcLo"
      }
    },
    {
      "cell_type": "markdown",
      "source": [
        "8. Виведіть третю літеру вашого `name_surname`. Тут уважно, треба саме третя літера. Згадайте, з якого значення починається індексування значень в Python."
      ],
      "metadata": {
        "id": "qNl8KxeXUtnL"
      }
    },
    {
      "cell_type": "code",
      "source": [
        "name_surname[2]"
      ],
      "metadata": {
        "id": "Tp7stqAhUvJz",
        "colab": {
          "base_uri": "https://localhost:8080/",
          "height": 35
        },
        "outputId": "1e86acd7-7a54-4b1b-e9ff-ba8c1d52b3ed"
      },
      "execution_count": 15,
      "outputs": [
        {
          "output_type": "execute_result",
          "data": {
            "text/plain": [
              "'n'"
            ],
            "application/vnd.google.colaboratory.intrinsic+json": {
              "type": "string"
            }
          },
          "metadata": {},
          "execution_count": 15
        }
      ]
    },
    {
      "cell_type": "markdown",
      "source": [
        "Очікувана відповідь (тільки з вашими даними): 'n'"
      ],
      "metadata": {
        "id": "GYWHqb3UUvqk"
      }
    },
    {
      "cell_type": "markdown",
      "metadata": {
        "pycharm": {
          "name": "#%% md\n"
        },
        "id": "1f3cc1a7"
      },
      "source": [
        "9. Виведіть першу та останню літеру вашого прізвища."
      ]
    },
    {
      "cell_type": "code",
      "source": [
        "print(\"Перша літера:\", surname[0], \"\\nОстання літера:\", surname[len(surname)-1])"
      ],
      "metadata": {
        "id": "s1ZgN3xuUyB8",
        "colab": {
          "base_uri": "https://localhost:8080/"
        },
        "outputId": "66266962-abd4-4cd8-f054-1f6b4c5cce29"
      },
      "execution_count": 23,
      "outputs": [
        {
          "output_type": "stream",
          "name": "stdout",
          "text": [
            "Перша літера: T \n",
            "Остання літера: a\n"
          ]
        }
      ]
    },
    {
      "cell_type": "code",
      "source": [
        "print(\"Перша літера:\", surname[0], \"\\nОстання літера:\", surname[-1])"
      ],
      "metadata": {
        "colab": {
          "base_uri": "https://localhost:8080/"
        },
        "id": "dgrGk-R_qQnh",
        "outputId": "d6855e9c-08d1-4b20-8e16-875fe6dacf17"
      },
      "execution_count": 24,
      "outputs": [
        {
          "output_type": "stream",
          "name": "stdout",
          "text": [
            "Перша літера: T \n",
            "Остання літера: a\n"
          ]
        }
      ]
    },
    {
      "cell_type": "markdown",
      "source": [
        "Очікувана відповідь (тільки з вашими даними): ('P', 'a')"
      ],
      "metadata": {
        "id": "KjlFjjhHVAt2"
      }
    },
    {
      "cell_type": "markdown",
      "source": [
        "10. Виведіть довжину вашого прізвища."
      ],
      "metadata": {
        "id": "UYLoho3DVMt2"
      }
    },
    {
      "cell_type": "code",
      "source": [
        "len(surname)"
      ],
      "metadata": {
        "id": "0TPJBh0LVA8q",
        "colab": {
          "base_uri": "https://localhost:8080/"
        },
        "outputId": "516dd0ac-9529-4184-c864-4f51a525950c"
      },
      "execution_count": 25,
      "outputs": [
        {
          "output_type": "execute_result",
          "data": {
            "text/plain": [
              "11"
            ]
          },
          "metadata": {},
          "execution_count": 25
        }
      ]
    },
    {
      "cell_type": "markdown",
      "source": [
        "Очікувана відповідь (тільки з вашими даними): 7\n"
      ],
      "metadata": {
        "id": "9FaxqvVgVRYW"
      }
    },
    {
      "cell_type": "markdown",
      "source": [
        "11. Виведіть кількість літер `a` у столиці Мадагаскару `Antananarivo`. Важливо врахувати всі літери, як великі, так і маленькі."
      ],
      "metadata": {
        "id": "JN2wxSlGVVAj"
      }
    },
    {
      "cell_type": "code",
      "source": [
        "city='Antananarivo'\n",
        "city_new = city.lower()\n",
        "city_new.count('a')"
      ],
      "metadata": {
        "id": "LCeHHz9bVUgL",
        "colab": {
          "base_uri": "https://localhost:8080/"
        },
        "outputId": "2ae98543-ca9e-47ee-908f-6f3a2bb43037"
      },
      "execution_count": 27,
      "outputs": [
        {
          "output_type": "execute_result",
          "data": {
            "text/plain": [
              "4"
            ]
          },
          "metadata": {},
          "execution_count": 27
        }
      ]
    },
    {
      "cell_type": "markdown",
      "source": [
        "Очікувана відповідь: 4"
      ],
      "metadata": {
        "id": "Ux4SQiuSVo92"
      }
    },
    {
      "cell_type": "markdown",
      "source": [
        "12. Створіть рядок `my_string` зі значенням: \"The quick brown fox jumps over the lazy dog!!!\".   \n",
        "Перевірте, чи починається рядок `my_string` з \"The\" і чи закінчується він \"dog!\". Виведіть результати на екран."
      ],
      "metadata": {
        "id": "mwEs0xnmVtes"
      }
    },
    {
      "cell_type": "code",
      "source": [
        "my_string = 'The quick brown fox jumps over the lazy dog!!!'\n",
        "\n",
        "a = my_string.startswith('The')\n",
        "b = my_string.endswith('dog!')"
      ],
      "metadata": {
        "id": "VlXDNpXcVs59"
      },
      "execution_count": 38,
      "outputs": []
    },
    {
      "cell_type": "code",
      "source": [
        "print(\"Починається рядок на 'The':\", a,\n",
        "      \"\\nЗакінчується рядок на 'dog!':\", b)"
      ],
      "metadata": {
        "colab": {
          "base_uri": "https://localhost:8080/"
        },
        "id": "4DTb7ff2rxm0",
        "outputId": "c9d8c12f-3db5-4800-8650-958dda462e3e"
      },
      "execution_count": 39,
      "outputs": [
        {
          "output_type": "stream",
          "name": "stdout",
          "text": [
            "Починається рядок на 'The': True \n",
            "Закінчується рядок на 'dog!': False\n"
          ]
        }
      ]
    },
    {
      "cell_type": "markdown",
      "source": [
        "13. Розділіть рядок `my_string` на список окремих слів, а потім з'єднайте всі слова через нижнє підкреслювання. Виведіть результат на екран."
      ],
      "metadata": {
        "id": "Yc-UwtqvV_h0"
      }
    },
    {
      "cell_type": "code",
      "source": [
        "a = my_string.split()\n",
        "b = \"_\".join(a)\n",
        "\n",
        "print(b)"
      ],
      "metadata": {
        "id": "m5I48Ii-WDSK",
        "colab": {
          "base_uri": "https://localhost:8080/"
        },
        "outputId": "b290f631-5465-4f7c-a9ab-130297c0317a"
      },
      "execution_count": 47,
      "outputs": [
        {
          "output_type": "stream",
          "name": "stdout",
          "text": [
            "The_quick_brown_fox_jumps_over_the_lazy_dog!!!\n"
          ]
        }
      ]
    },
    {
      "cell_type": "markdown",
      "source": [
        "Очікуваний результат: `The_quick_brown_fox_jumps_over_the_lazy_dog!!!`"
      ],
      "metadata": {
        "id": "UqvD1_jIXRhx"
      }
    }
  ]
}