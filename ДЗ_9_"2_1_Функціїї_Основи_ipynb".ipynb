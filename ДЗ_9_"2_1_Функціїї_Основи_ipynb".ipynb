{
  "nbformat": 4,
  "nbformat_minor": 0,
  "metadata": {
    "colab": {
      "provenance": [],
      "include_colab_link": true
    },
    "kernelspec": {
      "name": "python3",
      "display_name": "Python 3"
    },
    "language_info": {
      "name": "python"
    }
  },
  "cells": [
    {
      "cell_type": "markdown",
      "metadata": {
        "id": "view-in-github",
        "colab_type": "text"
      },
      "source": [
        "<a href=\"https://colab.research.google.com/github/InnaTik/python_for_ds_task/blob/main/%D0%94%D0%97_9_%222_1_%D0%A4%D1%83%D0%BD%D0%BA%D1%86%D1%96%D1%97%D1%97_%D0%9E%D1%81%D0%BD%D0%BE%D0%B2%D0%B8_ipynb%22.ipynb\" target=\"_parent\"><img src=\"https://colab.research.google.com/assets/colab-badge.svg\" alt=\"Open In Colab\"/></a>"
      ]
    },
    {
      "cell_type": "markdown",
      "source": [
        "# Домашнє завдання до теми \"Functions\""
      ],
      "metadata": {
        "id": "QtHabST6Ez_n"
      }
    },
    {
      "cell_type": "markdown",
      "source": [
        "1. Напишіть фукнцію `print_message`, яка виводить на екран \"Я програмую на Python💪\" і викличіть цю фукнцію 5 разів (найкраще це зробити в циклі).\n",
        "\n",
        "  **Увага**: фукнція має робити чітко лише зазначений функціонал. Наявність додаткового функціоналу і аргументів, які не потрібні для виконання безпосередньо завдання, буде вважатись помилкою."
      ],
      "metadata": {
        "id": "6pg_NzFq5_kO"
      }
    },
    {
      "cell_type": "code",
      "source": [
        "# варіант 1\n",
        "def print_message():\n",
        "  print(\"Я програмую на Python💪\")\n",
        "\n",
        "\n",
        "i = 1\n",
        "while i <= 5:\n",
        "  print_message()\n",
        "  i += 1"
      ],
      "metadata": {
        "id": "RbXsfwI_D8ql",
        "colab": {
          "base_uri": "https://localhost:8080/"
        },
        "outputId": "667c065a-b406-470b-d354-78e5a05781d6"
      },
      "execution_count": 1,
      "outputs": [
        {
          "output_type": "stream",
          "name": "stdout",
          "text": [
            "Я програмую на Python💪\n",
            "Я програмую на Python💪\n",
            "Я програмую на Python💪\n",
            "Я програмую на Python💪\n",
            "Я програмую на Python💪\n"
          ]
        }
      ]
    },
    {
      "cell_type": "code",
      "source": [
        "# варіант 2\n",
        "def print_message():\n",
        "  print(\"Я програмую на Python💪\")\n",
        "\n",
        "\n",
        "for i in range(5):\n",
        "  print_message()"
      ],
      "metadata": {
        "colab": {
          "base_uri": "https://localhost:8080/"
        },
        "id": "jwMhsuK69_rR",
        "outputId": "a9794a55-bb58-4d1a-f354-85d80344008f"
      },
      "execution_count": 2,
      "outputs": [
        {
          "output_type": "stream",
          "name": "stdout",
          "text": [
            "Я програмую на Python💪\n",
            "Я програмую на Python💪\n",
            "Я програмую на Python💪\n",
            "Я програмую на Python💪\n",
            "Я програмую на Python💪\n"
          ]
        }
      ]
    },
    {
      "cell_type": "markdown",
      "source": [
        "2. Напишіть функцію `calculation` яка приймає на вхід 4 аргументи типу int - `a`, `b`, `c`, `d` і вертає результат обчислення такої формули: $ (a + b - c) * d $.\n",
        "\n",
        "  Викличте функцію на наступному наборі аргументів і виведіть результат на екран:\n",
        "  ```\n",
        "  a = 16\n",
        "  b = 4\n",
        "  c = 9\n",
        "  d = 3\n",
        "  ```"
      ],
      "metadata": {
        "id": "oyRpWRXWBL9N"
      }
    },
    {
      "cell_type": "code",
      "source": [
        "# варіант 1\n",
        "def calculation(a ,b, c, d):\n",
        "  return ( a + b - c) * d\n",
        "\n",
        "\n",
        "print (\"Сума = \", calculation(16, 4, 9, 3))\n",
        "\n",
        "# calculation(16, 4, 9, 3)\n"
      ],
      "metadata": {
        "id": "Ggt2tx6kD-LS",
        "colab": {
          "base_uri": "https://localhost:8080/"
        },
        "outputId": "2f6aed48-5ffb-4724-f542-f524c3465ca6"
      },
      "execution_count": null,
      "outputs": [
        {
          "output_type": "stream",
          "name": "stdout",
          "text": [
            "Сума =  33\n"
          ]
        }
      ]
    },
    {
      "cell_type": "code",
      "source": [
        "# варіант 2\n",
        "def calculation(a ,b, c, d):\n",
        "  return ( a + b - c) * d\n",
        "\n",
        "\n",
        "a = 16\n",
        "b = 4\n",
        "c = 9\n",
        "d = 3\n",
        "\n",
        "#calculation(a ,b, c, d)\n",
        "print (\"Сума = \", calculation(a ,b, c, d))\n"
      ],
      "metadata": {
        "colab": {
          "base_uri": "https://localhost:8080/"
        },
        "id": "wsre1J4iCWHL",
        "outputId": "5042674c-4999-4d71-b353-90e04228ad87"
      },
      "execution_count": 3,
      "outputs": [
        {
          "output_type": "stream",
          "name": "stdout",
          "text": [
            "Сума =  33\n"
          ]
        }
      ]
    },
    {
      "cell_type": "markdown",
      "source": [
        "3. Напишіть функцію, яка додає до аргумента 15 і вертає результат додавання. Викличте функцію, передаючи в якості аргументів кожну з наступних змінних по черзі, і виведіть кожного разу результат на екран.\n",
        "```\n",
        "x = 9\n",
        "y = 14\n",
        "z = -19\n",
        "```"
      ],
      "metadata": {
        "id": "5hf1CbllDU_t"
      }
    },
    {
      "cell_type": "code",
      "source": [
        "# варіант 1\n",
        "def add(a):\n",
        "  result = a + 15\n",
        "  return print(\"Сума аргументів = \", result)\n",
        "\n",
        "x = 9\n",
        "y = 14\n",
        "z = -19\n",
        "\n",
        "add(x)\n",
        "add(y)\n",
        "add(z)"
      ],
      "metadata": {
        "id": "GvEs_nUtD_Cd",
        "colab": {
          "base_uri": "https://localhost:8080/"
        },
        "outputId": "ac5624f6-88cb-488a-df70-2fd0fe2c1b03"
      },
      "execution_count": 4,
      "outputs": [
        {
          "output_type": "stream",
          "name": "stdout",
          "text": [
            "Сума аргументів =  24\n",
            "Сума аргументів =  29\n",
            "Сума аргументів =  -4\n"
          ]
        }
      ]
    },
    {
      "cell_type": "code",
      "source": [
        "# варіант 2\n",
        "def add_new(a):\n",
        "  return a + 15\n",
        "\n",
        "x = 9\n",
        "y = 14\n",
        "z = -19\n",
        "\n",
        "print(\"Сума аргументів = \", add_new(x))\n",
        "print(\"Сума аргументів = \", add_new(y))\n",
        "print(\"Сума аргументів = \", add_new(z))"
      ],
      "metadata": {
        "colab": {
          "base_uri": "https://localhost:8080/"
        },
        "id": "RHyvQWEmFst4",
        "outputId": "69b4a280-0250-4498-ded7-e7167750f067"
      },
      "execution_count": 5,
      "outputs": [
        {
          "output_type": "stream",
          "name": "stdout",
          "text": [
            "Сума аргументів =  24\n",
            "Сума аргументів =  29\n",
            "Сума аргументів =  -4\n"
          ]
        }
      ]
    },
    {
      "cell_type": "markdown",
      "source": [
        "4. Напишіть функцію `multipy_numbers`, яка приймає два числа як аргументи і повертає їх добуток.\n",
        "\n",
        "  Викличіть функцію `multipy_numbers` на парах чисел\n",
        "- 10 і 2\n",
        "- 7 і 8\n",
        "- 1024 і 999.\n",
        "  \n",
        "  Виведіть результат кожного виклику.\n",
        "  При виконанні цього завдання з використанням циклу - отримаєте 2х балів за нього :)"
      ],
      "metadata": {
        "id": "bUuVBhie53uK"
      }
    },
    {
      "cell_type": "code",
      "source": [
        "def multipy_numbers(a, b):\n",
        "  return a * b\n",
        "\n",
        "print(\"Добуток:\", multipy_numbers(10, 2))\n",
        "print(\"Добуток:\", multipy_numbers(7, 8))\n",
        "print(\"Добуток:\", multipy_numbers(1024, 999))"
      ],
      "metadata": {
        "colab": {
          "base_uri": "https://localhost:8080/"
        },
        "id": "gJW0ei1NTmj4",
        "outputId": "e3adf0a7-e873-4ed0-8339-ac2831cf473d"
      },
      "execution_count": 12,
      "outputs": [
        {
          "output_type": "stream",
          "name": "stdout",
          "text": [
            "Добуток: 20\n",
            "Добуток: 56\n",
            "Добуток: 1022976\n"
          ]
        }
      ]
    },
    {
      "cell_type": "code",
      "source": [
        "#через цикл\n",
        "def multipy_numbers(a, b):\n",
        "  return a * b\n",
        "\n",
        "a1 = [(10, 2), (7, 8), (1024, 999)]\n",
        "\n",
        "for a,b in a1:\n",
        "  print(\"Добуток:\", multipy_numbers(a,b))"
      ],
      "metadata": {
        "colab": {
          "base_uri": "https://localhost:8080/"
        },
        "id": "VAU6v6ASQnmA",
        "outputId": "473a0454-be52-4d12-9703-f393c8c7742a"
      },
      "execution_count": 16,
      "outputs": [
        {
          "output_type": "stream",
          "name": "stdout",
          "text": [
            "Добуток: 20\n",
            "Добуток: 56\n",
            "Добуток: 1022976\n"
          ]
        }
      ]
    },
    {
      "cell_type": "code",
      "source": [
        "#як добуток двох списків при умові, що списки мають одну довжину. (Не придумала куди можна вставити перевірку якщо списки різної довжини. Повністю у функцію чи частково і за її межами...)\n",
        "def multipy_numbers(list1, list2):\n",
        "\n",
        "  multiply = []\n",
        "\n",
        "  for i in range(len(list1)):\n",
        "    multiply.append(list1[i] * list2[i])\n",
        "  return multiply\n",
        "\n",
        "\n",
        "list_1 = [10, 7, 1024]\n",
        "list_2 = [2, 8, 999]\n",
        "\n",
        "print(\"Добуток: \", multipy_numbers(list_1, list_2))\n",
        "\n"
      ],
      "metadata": {
        "id": "cDqrgZ4YEAKj",
        "colab": {
          "base_uri": "https://localhost:8080/"
        },
        "outputId": "1f0d09cb-1daf-49d3-8ac3-c8cff61f878e"
      },
      "execution_count": 10,
      "outputs": [
        {
          "output_type": "stream",
          "name": "stdout",
          "text": [
            "Добуток:  [20, 56, 1022976]\n"
          ]
        }
      ]
    },
    {
      "cell_type": "markdown",
      "source": [
        "5. **Ділення з перевіркою типів.**  \n",
        "\n",
        "  1. Напишіть функцію `int_division` яка приймає на вхід два аргументи типу `int` - `a` і `b`, і виконує ділення першого аргумента на другий: `a/b`. При цьому функція перед діленням перевіряє, чи другий аргумент не дорівнює 0. Якщо другий аргумент не 0, фукнція вертає результат ділення, інакше - замість виконання ділення, вертає повідомлення на екран \"Не можу виконати ділення на 0\".\n",
        "\n",
        "    Якщо типи, надані у функцію, не `int` - функція виводить повідомлення \"Не працюю з такими типами даних.\".\n",
        "\n",
        "  2. Запустіть функцію на наступних парах чисел:\n",
        "- 12 і 6\n",
        "- 20 і 0\n",
        "- 112 і 10\n",
        "- 99 і 0\n",
        "- 11 i 1.1\n",
        "\n",
        "    і виведіть на екран повідомлення \"Результат роботи функції: \" - і далі те, що повернула функція.\n",
        "\n",
        "  3. Дайте відповідь на питання: \"Чому в деяких випадках функція повернула None?\""
      ],
      "metadata": {
        "id": "I03t46k27dDZ"
      }
    },
    {
      "cell_type": "code",
      "source": [
        "def int_division(a:int, b:int):\n",
        "\n",
        "  if type(a) is not int or type(b) is not int:\n",
        "    return \"Не працюю з такими типами даних.\"\n",
        "  elif b != 0:\n",
        "        result1 = a / b\n",
        "        return result1\n",
        "  else:\n",
        "        return \"Не можу виконати ділення на 0.\"\n",
        "\n",
        "param = [(12, 6), (20, 0), (112, 10), (99, 0), (11, 1.1)]\n",
        "\n",
        "for a,b in param:\n",
        "  print(\"Результат роботи функції: \", int_division(a,b))"
      ],
      "metadata": {
        "id": "1-EQhxrAEEAb",
        "colab": {
          "base_uri": "https://localhost:8080/"
        },
        "outputId": "47198ebe-939e-49f5-cdc4-6932ca205bb1"
      },
      "execution_count": 17,
      "outputs": [
        {
          "output_type": "stream",
          "name": "stdout",
          "text": [
            "Результат роботи функції:  2.0\n",
            "Результат роботи функції:  Не можу виконати ділення на 0.\n",
            "Результат роботи функції:  11.2\n",
            "Результат роботи функції:  Не можу виконати ділення на 0.\n",
            "Результат роботи функції:  Не працюю з такими типами даних.\n"
          ]
        }
      ]
    },
    {
      "cell_type": "code",
      "source": [
        "#В цій версії коду(що зверху) функція не повертає None, бо return є визначеним у if, elif, else.\n",
        "\n",
        "#Коли в return прописувала print, то None поверталося, бо як розумію, навіть якщо print по суті не виконується він вертає None. (код нижче)"
      ],
      "metadata": {
        "id": "pjeaoWc2fqry"
      },
      "execution_count": 18,
      "outputs": []
    },
    {
      "cell_type": "code",
      "source": [
        "def int_division(a:int, b:int):\n",
        "\n",
        "  if type(a) is not int or type(b) is not int:\n",
        "    print(\"Не працюю з такими типами даних.\")\n",
        "  elif b != 0:\n",
        "        result1 = a / b\n",
        "        return print(result1)\n",
        "  else:\n",
        "        return print(\"Не можу виконати ділення на 0.\")\n",
        "\n",
        "param = ((12, 6), (20, 0), (112, 10), (99, 0), (11, 1.1))\n",
        "\n",
        "for a,b in param:\n",
        "  print(\"Результат роботи функції: \", int_division(a,b))"
      ],
      "metadata": {
        "colab": {
          "base_uri": "https://localhost:8080/"
        },
        "id": "y6DhPcIjetnK",
        "outputId": "beb23b19-a736-4a2b-a29f-5693dd17b550"
      },
      "execution_count": 19,
      "outputs": [
        {
          "output_type": "stream",
          "name": "stdout",
          "text": [
            "2.0\n",
            "Результат роботи функції:  None\n",
            "Не можу виконати ділення на 0.\n",
            "Результат роботи функції:  None\n",
            "11.2\n",
            "Результат роботи функції:  None\n",
            "Не можу виконати ділення на 0.\n",
            "Результат роботи функції:  None\n",
            "Не працюю з такими типами даних.\n",
            "Результат роботи функції:  None\n"
          ]
        }
      ]
    }
  ]
}