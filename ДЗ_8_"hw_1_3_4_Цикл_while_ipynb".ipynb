{
  "nbformat": 4,
  "nbformat_minor": 0,
  "metadata": {
    "colab": {
      "provenance": [],
      "include_colab_link": true
    },
    "kernelspec": {
      "name": "python3",
      "display_name": "Python 3"
    },
    "language_info": {
      "name": "python"
    }
  },
  "cells": [
    {
      "cell_type": "markdown",
      "metadata": {
        "id": "view-in-github",
        "colab_type": "text"
      },
      "source": [
        "<a href=\"https://colab.research.google.com/github/InnaTik/python_for_ds_task/blob/main/%D0%94%D0%97_8_%22hw_1_3_4_%D0%A6%D0%B8%D0%BA%D0%BB_while_ipynb%22.ipynb\" target=\"_parent\"><img src=\"https://colab.research.google.com/assets/colab-badge.svg\" alt=\"Open In Colab\"/></a>"
      ]
    },
    {
      "cell_type": "markdown",
      "source": [
        "#Домашнє завдання до теми \"Цикл while\""
      ],
      "metadata": {
        "id": "15XCoYr0awZ6"
      }
    },
    {
      "cell_type": "markdown",
      "source": [
        "1. **Лічильник до заданого числа.**\n",
        "   Завдання:\n",
        "     - Створіть цикл `while`, щоб він лічив від 1 до заданого числа в змінній `limit` (включно).\n",
        "     - Виведіть кожне число, яке проходить лічильник, на екран.\n",
        "     - В кінці виведіть повідомлення \"Кінець розрахунку!\".\n"
      ],
      "metadata": {
        "id": "xgCDxF5YhQSa"
      }
    },
    {
      "cell_type": "code",
      "source": [
        "limit = 9  # Задане число"
      ],
      "metadata": {
        "id": "wwSqYFCmiJTt"
      },
      "execution_count": 31,
      "outputs": []
    },
    {
      "cell_type": "code",
      "source": [
        "i = 1\n",
        "while limit >= i:\n",
        "    print(i)\n",
        "    i += 1\n",
        "print(\"Кінець розрахунку!\")"
      ],
      "metadata": {
        "id": "-t-kC6mJqNVx",
        "colab": {
          "base_uri": "https://localhost:8080/"
        },
        "outputId": "16daef6e-0da2-4e21-a009-49102f3dbb4b"
      },
      "execution_count": 32,
      "outputs": [
        {
          "output_type": "stream",
          "name": "stdout",
          "text": [
            "1\n",
            "2\n",
            "3\n",
            "4\n",
            "5\n",
            "6\n",
            "7\n",
            "8\n",
            "9\n",
            "Кінець розрахунку!\n"
          ]
        }
      ]
    },
    {
      "cell_type": "markdown",
      "source": [
        "2. **Пошук першого парного числа.** Завдання:\n",
        "     - Створіть цикл `while`, щоб знайти перше парне число після заданого числа `start`.\n",
        "     - Знайдіть та виведіть перше парне число.\n"
      ],
      "metadata": {
        "id": "DlqunQnphZ9s"
      }
    },
    {
      "cell_type": "code",
      "source": [
        "start = 7  # Задане число"
      ],
      "metadata": {
        "id": "3CC3-gNJiW6X"
      },
      "execution_count": 44,
      "outputs": []
    },
    {
      "cell_type": "code",
      "source": [
        "start_new = start + 1\n",
        "\n",
        "while True:\n",
        "  if start_new % 2 == 0:\n",
        "      print(start_new)\n",
        "      break\n",
        "  start_new += 1\n",
        "\n"
      ],
      "metadata": {
        "id": "5M8Ly9_Lj4-t",
        "colab": {
          "base_uri": "https://localhost:8080/"
        },
        "outputId": "c2cec0d0-6bba-409f-b8c4-11145f919be7"
      },
      "execution_count": 45,
      "outputs": [
        {
          "output_type": "stream",
          "name": "stdout",
          "text": [
            "8\n"
          ]
        }
      ]
    },
    {
      "cell_type": "markdown",
      "source": [
        "\n",
        "3. **Обчислення факторіалу.**   \n",
        "  Факторіал числа - це добуток всіх натуральних чисел від 1 до цього числа включно. Наприклад, факторіал числа 5 (позначається як 5!) дорівнює `1 * 2 * 3 * 4 * 5 = 120`.\n",
        "\n",
        "  Завдання:  \n",
        "      - Обчисліть факторіал заданого числа, використовуючи цикл `while`.  \n",
        "      - Задайте деяке число для обчислення факторіалу у змінній `num`.  \n",
        "      - Виведіть обчислений факторіал на екран.  \n"
      ],
      "metadata": {
        "id": "OlhKezZYiQJ2"
      }
    },
    {
      "cell_type": "code",
      "source": [
        "num = 5\n",
        "i = 1\n",
        "factorial = 1\n",
        "\n",
        "if num < 0:\n",
        "  print('Введіть число більше 0')\n",
        "else:\n",
        "  while i <= num:\n",
        "    factorial *= i\n",
        "    i += 1\n",
        "  print(f'Факторіал: {num}! = {factorial}')"
      ],
      "metadata": {
        "id": "s0JKm0Wtj5s9",
        "colab": {
          "base_uri": "https://localhost:8080/"
        },
        "outputId": "c7171d22-0acd-46f1-9872-daf7e79851c1"
      },
      "execution_count": 38,
      "outputs": [
        {
          "output_type": "stream",
          "name": "stdout",
          "text": [
            "Факторіал: 5! = 120\n"
          ]
        }
      ]
    }
  ]
}