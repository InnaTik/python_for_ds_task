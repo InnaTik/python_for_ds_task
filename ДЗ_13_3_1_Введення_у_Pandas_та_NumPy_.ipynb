{
 "cells": [
  {
   "cell_type": "markdown",
   "metadata": {
    "editable": true,
    "id": "6bbb4b6a",
    "slideshow": {
     "slide_type": ""
    },
    "tags": []
   },
   "source": [
    "# Домашнє завдання до теми \"Введення у Pandas та NumPy\""
   ]
  },
  {
   "cell_type": "markdown",
   "metadata": {
    "editable": true,
    "id": "7ef4e602",
    "slideshow": {
     "slide_type": ""
    },
    "tags": []
   },
   "source": [
    "У домашніх завданнях цього модулю ми працюємо з набором даних про продажі в різних магазинах мережі супермаркетів.\n",
    "\n",
    "## Контекст даних\n",
    "Зростання супермаркетів у найбільш населених містах збільшується, а конкуренція на ринку також висока. Набір даних є вигрузкою історичних продажів компанії-мережі супермаркетів у 3х різних філіях протягом 3 місяців.\n",
    "\n",
    "**Ціль:** Цей набір даних може бути використаний для цілей розуміння тенденцій продажів, які товари в якому місті варто продавати, а поставку яких - варто скоротити. На основі цих даних можна оцінити майбутні тенденції продажів, оцінити поведінку споживачів та оптимізувати стратегію продажів.\n",
    "\n",
    "Ми будемо робити елементи аналізу в цьому напрямі.\n",
    "\n",
    "## Опис даних\n",
    "\n",
    "| Назва оригінальна           | Переклад назви             | Опис українською                                                                                       |\n",
    "|---------------------------|--------------------------|-----------------------------------------------------------------------------------------------------|\n",
    "| Invoice id                | Ідентифікатор чека       | Комп’ютерно генерований номер ідентифікації чека продажу                                             |\n",
    "| Branch                    | Філія                    | Філія супермаркету (доступні 3 філії, ідентифіковані як A, B та C)                                     |\n",
    "| City                      | Місто                    | Місцезнаходження суперцентрів                                                                        |\n",
    "| Customer type             | Тип клієнта              | Тип клієнтів, зафіксований як Члени для клієнтів, що використовують картку члена, та Звичайні без картки |\n",
    "| Gender                    | Стать                    | Стать покупця                                                                                       |\n",
    "| Product line              | Лінійка продуктів        | Загальні групи категоризації товарів - Електронні аксесуари, Модні аксесуари, Їжа та напої, Здоров’я та краса, Дім і стиль життя, Спорт та подорожі |\n",
    "| Unit price                | Ціна за одиницю          | Ціна кожного продукту в доларах США                                                                  |\n",
    "| Quantity                  | Кількість                | Кількість продуктів, придбаних клієнтом                                                             |\n",
    "| Tax                       | Податок                  | 5% податковий збір для покупця                                                                       |\n",
    "| Total                     | Загальна сума            | Загальна ціна з урахуванням податку                                                                  |\n",
    "| Date                      | Дата                     | Дата покупки (Дані доступні з січня 2019 по березень 2019)                                           |\n",
    "| Time                      | Час                      | Час покупки (з 10:00 до 21:00)                                                                       |\n",
    "| Payment                   | Оплата                   | Метод оплати, використаний клієнтом для покупки (доступні 3 методи – Готівка, Кредитна картка та Електронний гаманець) |\n",
    "| COGS                      | Собівартість проданих товарів | Собівартість проданих товарів                                                                      |\n",
    "| Gross margin percentage   | Відсоток валового прибутку | Відсоток валового прибутку                                                                         |\n",
    "| Gross income              | Валовий дохід            | Валовий дохід                                                                                       |\n",
    "| Rating                    | Рейтинг                  | Рейтинг задоволення клієнтів від загального досвіду покупок (На шкалі від 1 до 10)                    |\n",
    "\n",
    "\n",
    "## Робота з даними в рамках завдань цього модулю\n",
    "\n",
    "Завантажте дані з навчальної платформи собі локально. Як найркаще організувати збереження даних і ноутбуків було наведено в лекції. Якщо Ви працюєте в Colab - то рекомендую або розмістити дані у себе на диску і підключити диск (`Files` -> `Mount Drive`) або перетягнути дані в `Files` на робочу сесію і читати звідти.\n",
    "\n",
    "Дані ми НЕ заливаємо зазвичай в git, особливо якщо вони більше 10мб - це погана практика. Ліпше залити на гугл диск і дати посилання в репозиторії в readme.md файлі, якщо дані великі. Саме так рекомендую робити для проєктів з портфоліо.\n",
    "\n",
    "У домашніх завданнях цього модуля особливо важливо **уважно** читати формулювання завдання і всі коментарі. Також у цьому модулі треба по максимуму використовувати функціонал бібліотеки pandas, навіть якщо існують альтернативні способи зробити те саме. Нагадую, що працюючи з pandas ми здебільшого НЕ потребуємо використовувати цикли для створення колонки - для цього є інші, більш загальноприйняті методи, розглянуті в лекції.\n"
   ]
  },
  {
   "cell_type": "markdown",
   "metadata": {
    "id": "39qzN0NZAPFm"
   },
   "source": [
    "1. Імпортуйте бібліотеку pandas в загальноприйнятому форматі."
   ]
  },
  {
   "cell_type": "code",
   "execution_count": 1,
   "metadata": {
    "execution": {
     "iopub.execute_input": "2025-08-29T12:02:20.277117Z",
     "iopub.status.busy": "2025-08-29T12:02:20.276522Z",
     "iopub.status.idle": "2025-08-29T12:02:21.294358Z",
     "shell.execute_reply": "2025-08-29T12:02:21.292873Z",
     "shell.execute_reply.started": "2025-08-29T12:02:20.277083Z"
    },
    "id": "jA1fRzz4AOsE"
   },
   "outputs": [],
   "source": [
    "import pandas as pd"
   ]
  },
  {
   "cell_type": "markdown",
   "metadata": {
    "ExecuteTime": {
     "end_time": "2021-09-20T19:43:50.443031Z",
     "start_time": "2021-09-20T19:43:50.439600Z"
    },
    "id": "fd7f076b"
   },
   "source": [
    "2. За допомогою бібліотеки Pandas, викликом однієї функції зчитайте набір даних із файлу `supermarket_sales.csv` в змінну `df` типу `pandas.DataFrame`.\n",
    "Виведіть тип даних змінної `df`."
   ]
  },
  {
   "cell_type": "code",
   "execution_count": 2,
   "metadata": {
    "execution": {
     "iopub.execute_input": "2025-08-29T12:03:30.627083Z",
     "iopub.status.busy": "2025-08-29T12:03:30.626454Z",
     "iopub.status.idle": "2025-08-29T12:03:30.650907Z",
     "shell.execute_reply": "2025-08-29T12:03:30.649551Z",
     "shell.execute_reply.started": "2025-08-29T12:03:30.627048Z"
    },
    "id": "0kbbVMM1ATsk"
   },
   "outputs": [],
   "source": [
    "data_path = '../data/supermarket_sales.csv'\n",
    "df = pd.read_csv(data_path)"
   ]
  },
  {
   "cell_type": "code",
   "execution_count": 24,
   "metadata": {
    "execution": {
     "iopub.execute_input": "2025-08-29T12:37:06.406783Z",
     "iopub.status.busy": "2025-08-29T12:37:06.406160Z",
     "iopub.status.idle": "2025-08-29T12:37:06.415531Z",
     "shell.execute_reply": "2025-08-29T12:37:06.414067Z",
     "shell.execute_reply.started": "2025-08-29T12:37:06.406750Z"
    }
   },
   "outputs": [
    {
     "data": {
      "text/plain": [
       "pandas.core.frame.DataFrame"
      ]
     },
     "execution_count": 24,
     "metadata": {},
     "output_type": "execute_result"
    }
   ],
   "source": [
    "type(df)"
   ]
  },
  {
   "cell_type": "markdown",
   "metadata": {
    "ExecuteTime": {
     "end_time": "2022-11-01T16:51:38.594974Z",
     "start_time": "2022-11-01T16:51:38.591423Z"
    },
    "id": "33661c15"
   },
   "source": [
    "3. Виведіть кількість рядків і кількість колонок в наборі даних. Відповідь сформуйте використовуючи fstring у наступному форматі: `Набір даних містить 1000 рядків та 17 колонок`"
   ]
  },
  {
   "cell_type": "code",
   "execution_count": 9,
   "metadata": {
    "ExecuteTime": {
     "end_time": "2022-11-01T16:54:59.887783Z",
     "start_time": "2022-11-01T16:54:59.884323Z"
    },
    "execution": {
     "iopub.execute_input": "2025-08-29T12:20:09.078932Z",
     "iopub.status.busy": "2025-08-29T12:20:09.077911Z",
     "iopub.status.idle": "2025-08-29T12:20:09.093703Z",
     "shell.execute_reply": "2025-08-29T12:20:09.092268Z",
     "shell.execute_reply.started": "2025-08-29T12:20:09.078887Z"
    },
    "id": "bac0cbfc"
   },
   "outputs": [],
   "source": [
    "data_path = '../data/supermarket_sales.csv'\n",
    "df = pd.read_csv(data_path)"
   ]
  },
  {
   "cell_type": "code",
   "execution_count": 12,
   "metadata": {
    "execution": {
     "iopub.execute_input": "2025-08-29T12:24:07.515344Z",
     "iopub.status.busy": "2025-08-29T12:24:07.514577Z",
     "iopub.status.idle": "2025-08-29T12:24:07.521817Z",
     "shell.execute_reply": "2025-08-29T12:24:07.520356Z",
     "shell.execute_reply.started": "2025-08-29T12:24:07.515292Z"
    }
   },
   "outputs": [],
   "source": [
    "rows, columns = df.shape"
   ]
  },
  {
   "cell_type": "code",
   "execution_count": 15,
   "metadata": {
    "execution": {
     "iopub.execute_input": "2025-08-29T12:25:13.699868Z",
     "iopub.status.busy": "2025-08-29T12:25:13.699255Z",
     "iopub.status.idle": "2025-08-29T12:25:13.708538Z",
     "shell.execute_reply": "2025-08-29T12:25:13.707248Z",
     "shell.execute_reply.started": "2025-08-29T12:25:13.699835Z"
    }
   },
   "outputs": [
    {
     "data": {
      "text/plain": [
       "'Набір даних містить 1000 рядків та 17 колонок'"
      ]
     },
     "execution_count": 15,
     "metadata": {},
     "output_type": "execute_result"
    }
   ],
   "source": [
    "f\"Набір даних містить {rows} рядків та {columns} колонок\""
   ]
  },
  {
   "cell_type": "code",
   "execution_count": 16,
   "metadata": {
    "execution": {
     "iopub.execute_input": "2025-08-29T12:26:25.919066Z",
     "iopub.status.busy": "2025-08-29T12:26:25.918353Z",
     "iopub.status.idle": "2025-08-29T12:26:25.938670Z",
     "shell.execute_reply": "2025-08-29T12:26:25.937138Z",
     "shell.execute_reply.started": "2025-08-29T12:26:25.919019Z"
    }
   },
   "outputs": [
    {
     "name": "stdout",
     "output_type": "stream",
     "text": [
      "Набір даних містить 1000 рядків та 17 колонок\n"
     ]
    }
   ],
   "source": [
    "print(f\"Набір даних містить {rows} рядків та {columns} колонок\")"
   ]
  },
  {
   "cell_type": "markdown",
   "metadata": {
    "id": "4i5dUphZ_JxM"
   },
   "source": [
    "4. Скільки оперативної памʼяті у мегабайтах займає даний набір даних? Обчисліть за допомогою pandas і виведіть на екран."
   ]
  },
  {
   "cell_type": "code",
   "execution_count": 18,
   "metadata": {
    "execution": {
     "iopub.execute_input": "2025-08-29T12:27:00.147049Z",
     "iopub.status.busy": "2025-08-29T12:27:00.146397Z",
     "iopub.status.idle": "2025-08-29T12:27:00.159768Z",
     "shell.execute_reply": "2025-08-29T12:27:00.158373Z",
     "shell.execute_reply.started": "2025-08-29T12:27:00.147014Z"
    },
    "id": "kwoNKAr-_JDf"
   },
   "outputs": [
    {
     "data": {
      "text/plain": [
       "np.int64(136132)"
      ]
     },
     "execution_count": 18,
     "metadata": {},
     "output_type": "execute_result"
    }
   ],
   "source": [
    "df.memory_usage().sum()"
   ]
  },
  {
   "cell_type": "code",
   "execution_count": 23,
   "metadata": {
    "execution": {
     "iopub.execute_input": "2025-08-29T12:29:37.444941Z",
     "iopub.status.busy": "2025-08-29T12:29:37.444353Z",
     "iopub.status.idle": "2025-08-29T12:29:37.454157Z",
     "shell.execute_reply": "2025-08-29T12:29:37.452792Z",
     "shell.execute_reply.started": "2025-08-29T12:29:37.444910Z"
    }
   },
   "outputs": [
    {
     "name": "stdout",
     "output_type": "stream",
     "text": [
      "Набір даних займає 0.13 МБ оперативної памʼяті\n"
     ]
    }
   ],
   "source": [
    "total_bytes = df.memory_usage().sum()\n",
    "total_megabytes = total_bytes / (1024 * 1024)\n",
    "print(f\"Набір даних займає {total_megabytes:.2f} МБ оперативної памʼяті\")"
   ]
  },
  {
   "cell_type": "markdown",
   "metadata": {
    "editable": true,
    "id": "ksL_sc3RwPIe",
    "slideshow": {
     "slide_type": ""
    },
    "tags": []
   },
   "source": [
    "**Перше домашнє завдання із Pandas виконано! 🚀✔️**"
   ]
  }
 ],
 "metadata": {
  "colab": {
   "provenance": []
  },
  "kernelspec": {
   "display_name": "Python 3 (ipykernel)",
   "language": "python",
   "name": "python3"
  },
  "language_info": {
   "codemirror_mode": {
    "name": "ipython",
    "version": 3
   },
   "file_extension": ".py",
   "mimetype": "text/x-python",
   "name": "python",
   "nbconvert_exporter": "python",
   "pygments_lexer": "ipython3",
   "version": "3.13.4"
  }
 },
 "nbformat": 4,
 "nbformat_minor": 4
}
