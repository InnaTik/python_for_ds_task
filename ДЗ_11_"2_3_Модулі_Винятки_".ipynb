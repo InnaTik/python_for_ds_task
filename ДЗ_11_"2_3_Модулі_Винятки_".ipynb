{
  "cells": [
    {
      "cell_type": "markdown",
      "metadata": {
        "id": "view-in-github",
        "colab_type": "text"
      },
      "source": [
        "<a href=\"https://colab.research.google.com/github/InnaTik/python_for_ds_task/blob/main/%D0%94%D0%97_11_%222_3_%D0%9C%D0%BE%D0%B4%D1%83%D0%BB%D1%96_%D0%92%D0%B8%D0%BD%D1%8F%D1%82%D0%BA%D0%B8_%22.ipynb\" target=\"_parent\"><img src=\"https://colab.research.google.com/assets/colab-badge.svg\" alt=\"Open In Colab\"/></a>"
      ]
    },
    {
      "cell_type": "markdown",
      "id": "1561554f",
      "metadata": {
        "id": "1561554f"
      },
      "source": [
        "# Домашнє завдання до теми \"Модулі. Винятки (Exceptions)\"\n",
        "\n"
      ]
    },
    {
      "cell_type": "markdown",
      "metadata": {
        "ExecuteTime": {
          "end_time": "2022-10-22T04:15:21.939494Z",
          "start_time": "2022-10-22T04:15:21.933981Z"
        },
        "id": "c094769a"
      },
      "source": [
        "Почнемо з закріплення матеріалу щодо фукнцій і віпрацювання роботи з модулем `random`.\n",
        "\n",
        "1. Напишіть функцію `get_random_int_list`, яка приймає один аргумент - кількість чисел `n`, і повертає список, що містить `n` випадкових цілих чисел з діапазону від 0 до 100 включно. Для генерації випадкових чисел використовуйте модуль `random`.\n",
        "\n",
        "  **Вимоги до реалізації:**\n",
        "\n",
        "  - Функція повинна приймати один аргумент `n` - кількість чисел у списку.\n",
        "  - Для генерації випадкових чисел використовуйте функцію `random.randint(0, 100)`.\n",
        "  - Повернутий список має містити рівно `n` випадкових чисел.\n",
        "\n",
        "  **Приклади виклику функції та очікувані результати:**\n",
        "\n",
        "  1. **Приклад 1:**\n",
        "    - Виклик функції: `get_random_int_list(5)`\n",
        "    - Очікуваний результат: Список з 5 випадковими числами, наприклад, `[23, 77, 45, 8, 91]`. Кожен запуск може повертати різні числа через випадковість.\n",
        "\n",
        "  2. **Приклад 2:**\n",
        "    - Виклик функції: `get_random_int_list(3)`\n",
        "    - Очікуваний результат: Список з 3 випадковими числами, наприклад, `[64, 20, 37]`.\n",
        "\n",
        "  3. **Приклад 3:**\n",
        "    - Виклик функції: `get_random_int_list(0)`\n",
        "    - Очікуваний результат: Порожній список `[]`, оскільки було запитано 0 чисел.\n",
        "\n",
        "Продемонструйте результати робити функції запустивши код нижче."
      ],
      "id": "c094769a"
    },
    {
      "cell_type": "code",
      "source": [
        "# variant 1\n",
        "import random\n",
        "\n",
        "def get_random_int_list(n):\n",
        "  if n < 0 or not isinstance(n, int):\n",
        "    return (\"Error: Invalid value. n must be an integer and >= 0\")\n",
        "  random_list = []\n",
        "  for _ in range(n):\n",
        "    random_list.append(random.randint(0, 100))\n",
        "  return random_list"
      ],
      "metadata": {
        "id": "m5hUhAQaqP78"
      },
      "id": "m5hUhAQaqP78",
      "execution_count": 39,
      "outputs": []
    },
    {
      "cell_type": "code",
      "source": [
        "# variant 2\n",
        "import random\n",
        "\n",
        "def get_random_int_list(n) :\n",
        "  if n < 0 or not isinstance(n, int):\n",
        "    return (\"Error: Invalid value. n must be an integer and >= 0\")\n",
        "  else:\n",
        "    return [random.randint(0, 100) for _ in range(n)]"
      ],
      "metadata": {
        "id": "WD2GMWvGpT4i"
      },
      "id": "WD2GMWvGpT4i",
      "execution_count": 40,
      "outputs": []
    },
    {
      "cell_type": "code",
      "source": [
        "get_random_int_list(5)"
      ],
      "metadata": {
        "colab": {
          "base_uri": "https://localhost:8080/"
        },
        "id": "2eP_KS21hccs",
        "outputId": "a1e57a9a-7a90-4f3a-d686-1eb76e21e519"
      },
      "id": "2eP_KS21hccs",
      "execution_count": 41,
      "outputs": [
        {
          "output_type": "execute_result",
          "data": {
            "text/plain": [
              "[97, 9, 16, 25, 15]"
            ]
          },
          "metadata": {},
          "execution_count": 41
        }
      ]
    },
    {
      "cell_type": "code",
      "source": [
        "get_random_int_list(3)"
      ],
      "metadata": {
        "colab": {
          "base_uri": "https://localhost:8080/"
        },
        "id": "69qUm3cIt8Mx",
        "outputId": "5adea2bf-2e94-491d-e129-0529a775c9e9"
      },
      "id": "69qUm3cIt8Mx",
      "execution_count": 42,
      "outputs": [
        {
          "output_type": "execute_result",
          "data": {
            "text/plain": [
              "[50, 52, 39]"
            ]
          },
          "metadata": {},
          "execution_count": 42
        }
      ]
    },
    {
      "cell_type": "code",
      "source": [
        "get_random_int_list(0)"
      ],
      "metadata": {
        "colab": {
          "base_uri": "https://localhost:8080/"
        },
        "id": "PUmOwlJ1t_Bt",
        "outputId": "42f10c36-fb9b-4df9-bb6a-6ab176603551"
      },
      "id": "PUmOwlJ1t_Bt",
      "execution_count": 43,
      "outputs": [
        {
          "output_type": "execute_result",
          "data": {
            "text/plain": [
              "[]"
            ]
          },
          "metadata": {},
          "execution_count": 43
        }
      ]
    },
    {
      "cell_type": "code",
      "source": [
        "get_random_int_list(-4)"
      ],
      "metadata": {
        "colab": {
          "base_uri": "https://localhost:8080/",
          "height": 35
        },
        "id": "gMoxWGlFyhq9",
        "outputId": "95c316e1-8c04-49cf-e952-0fd64a9af84c"
      },
      "id": "gMoxWGlFyhq9",
      "execution_count": 44,
      "outputs": [
        {
          "output_type": "execute_result",
          "data": {
            "text/plain": [
              "'Error: Invalid value. n must be an integer and >= 0'"
            ],
            "application/vnd.google.colaboratory.intrinsic+json": {
              "type": "string"
            }
          },
          "metadata": {},
          "execution_count": 44
        }
      ]
    },
    {
      "cell_type": "code",
      "source": [
        "for number in [5, 3, 0, 8]:\n",
        "  print(get_random_int_list(number))"
      ],
      "metadata": {
        "id": "XV-QkjcbqZNv",
        "colab": {
          "base_uri": "https://localhost:8080/"
        },
        "outputId": "854bf1e5-f0c7-4f61-a1aa-62188dc40db2"
      },
      "id": "XV-QkjcbqZNv",
      "execution_count": 45,
      "outputs": [
        {
          "output_type": "stream",
          "name": "stdout",
          "text": [
            "[52, 58, 79, 94, 21]\n",
            "[77, 74, 33]\n",
            "[]\n",
            "[28, 70, 93, 94, 59, 19, 94, 84]\n"
          ]
        }
      ]
    },
    {
      "cell_type": "markdown",
      "source": [
        "2. **Конвертер рядка в число**\n",
        "\n",
        "  **Опис завдання:**\n",
        "\n",
        "  Створіть функцію `string_to_int`, яка приймає рядок і намагається перетворити його в ціле число. Якщо рядок не можна перетворити на ціле число, функція повинна обробити виключення про неправильне значення, вивести на екран `\"Некоректне введення\"` і повернути `None`.\n",
        "\n",
        "  **Приклади виклику функції:**\n",
        "\n",
        "  - `string_to_int(\"123\")` повинно повернути `123`.\n",
        "  - `string_to_int(\"abc\")` повинно вивести повідомлення `\"Некоректне введення\"` і повернути `None`."
      ],
      "metadata": {
        "id": "NshVsMvcoYJA"
      },
      "id": "NshVsMvcoYJA"
    },
    {
      "cell_type": "code",
      "source": [
        "# варіант 1\n",
        "def string_to_int(list1):\n",
        "    try:\n",
        "        return int(list1)\n",
        "    except ValueError:\n",
        "        print(\"Некоректне введення\")\n",
        "        return None"
      ],
      "metadata": {
        "id": "5UT2YNrISdLR"
      },
      "execution_count": 46,
      "outputs": [],
      "id": "5UT2YNrISdLR"
    },
    {
      "cell_type": "code",
      "source": [
        "# варіант 2 ( не сильно розумію як вірно вивести повідомлення \"Некоректне введення\" і повернути None. Так як в варіанті 1 чи варіант 2.)\n",
        "#При варінті 1 не гарно виводиться results на екран при наведеному коді в ДЗ.\n",
        "def string_to_int(list1):\n",
        "    try:\n",
        "        return int(list1)\n",
        "    except ValueError:\n",
        "        return \"Некоректне введення\", None"
      ],
      "metadata": {
        "id": "lSvnD3jQvMVw"
      },
      "id": "lSvnD3jQvMVw",
      "execution_count": 51,
      "outputs": []
    },
    {
      "cell_type": "code",
      "source": [
        "string_to_int(\"123\")"
      ],
      "metadata": {
        "colab": {
          "base_uri": "https://localhost:8080/"
        },
        "id": "hf4BCJjQrNxv",
        "outputId": "850adb6d-c305-4441-dda0-f4b98b2b6087"
      },
      "id": "hf4BCJjQrNxv",
      "execution_count": 47,
      "outputs": [
        {
          "output_type": "execute_result",
          "data": {
            "text/plain": [
              "123"
            ]
          },
          "metadata": {},
          "execution_count": 47
        }
      ]
    },
    {
      "cell_type": "code",
      "source": [
        "print(string_to_int(\"abc\"))"
      ],
      "metadata": {
        "colab": {
          "base_uri": "https://localhost:8080/"
        },
        "id": "03_LKsaW1B7R",
        "outputId": "7d88d59a-9c9a-46c6-f111-00246e70323d"
      },
      "id": "03_LKsaW1B7R",
      "execution_count": 48,
      "outputs": [
        {
          "output_type": "stream",
          "name": "stdout",
          "text": [
            "Некоректне введення\n",
            "None\n"
          ]
        }
      ]
    },
    {
      "cell_type": "code",
      "source": [
        "string_to_int(\"abc\")  # None виводиться за допомогою варіанта 2. Якщо застосувати варіант 1 написання функції, None не виводиться. Вже заплуталася..."
      ],
      "metadata": {
        "colab": {
          "base_uri": "https://localhost:8080/"
        },
        "id": "NxJ3X9vfrT6Z",
        "outputId": "08a528dd-ac90-4999-eb78-514ed02b0dbd"
      },
      "id": "NxJ3X9vfrT6Z",
      "execution_count": 49,
      "outputs": [
        {
          "output_type": "stream",
          "name": "stdout",
          "text": [
            "Некоректне введення\n"
          ]
        }
      ]
    },
    {
      "cell_type": "markdown",
      "source": [
        "Продемонструйте результати робити функції запустивши код нижче."
      ],
      "metadata": {
        "id": "UbIaPiOHSgE7"
      },
      "id": "UbIaPiOHSgE7"
    },
    {
      "cell_type": "code",
      "source": [
        "test_inputs = [\"123\", \"abc\", \"456.78\", \"100\"]\n",
        "results = {input_value: string_to_int(input_value) for input_value in test_inputs}\n",
        "results\n"
      ],
      "metadata": {
        "id": "AL7sINtwSgcs",
        "colab": {
          "base_uri": "https://localhost:8080/"
        },
        "outputId": "1a0efc9c-d14f-418b-a3f8-009c28ef52bb"
      },
      "execution_count": 52,
      "outputs": [
        {
          "output_type": "execute_result",
          "data": {
            "text/plain": [
              "{'123': 123,\n",
              " 'abc': ('Некоректне введення', None),\n",
              " '456.78': ('Некоректне введення', None),\n",
              " '100': 100}"
            ]
          },
          "metadata": {},
          "execution_count": 52
        }
      ],
      "id": "AL7sINtwSgcs"
    },
    {
      "cell_type": "markdown",
      "source": [
        "3. **Контроль введення користувача**\n",
        "\n",
        "  Створіть функцію `check_age`, яка приймає на вхід вік користувача у форматі рядок і перевіряє, чи є користувач повнолітнім (18 років і старше). Якщо введене значення не може бути перетворено на ціле число, функція повинна обробити виняток, вивести на екран `\"Некоректне введення. Будь ласка, введіть числове значення.\"` і повернути `False`. Якщо вік користувача менше 18, вивести повідомлення `\"Ви не повнолітній!\"` і також повернути `False`. У випадку, коли вік 18 років або більше, вивести повідомлення `\"Ви повнолітній.\"` і повернути `True`.\n",
        "\n",
        "  **Приклад роботи програми:**\n",
        "\n",
        "  1. Користувач вводить `\"двадцять\"`: програма виводить на екрнан `\"Некоректне введення. Будь ласка, введіть числове значення.\"` і повертає `False`.\n",
        "  2. Користувач вводить `\"17\"`: програма виводить `\"Ви не повнолітній!\"` і повертає `False`.\n",
        "  3. Користувач вводить `\"18\"`: програма виводить `\"Ви повнолітній.\"` і повертає `True`.\n"
      ],
      "metadata": {
        "id": "KkzLp29pQ1-U"
      },
      "id": "KkzLp29pQ1-U"
    },
    {
      "cell_type": "code",
      "source": [
        "# варіант 1\n",
        "def check_age(n):\n",
        "  try:\n",
        "    if int(n) >=18:\n",
        "      return \"Ви повнолітній.\", True\n",
        "    else:\n",
        "      return \"Ви не повнолітній!\", False\n",
        "  except ValueError:\n",
        "    return \"Некоректне введення. Будь ласка, введіть числове значення.\", False\n"
      ],
      "metadata": {
        "id": "K3PTENm-Ae3-"
      },
      "execution_count": 53,
      "outputs": [],
      "id": "K3PTENm-Ae3-"
    },
    {
      "cell_type": "code",
      "source": [
        "# варіант 2\n",
        "#Те саме питання: програма виводить - чи обов'язкого використовувати print чи достатньо return\n",
        "def check_age(n):\n",
        "    try:\n",
        "        if int(n) >= 18:\n",
        "            print(\"Ви повнолітній.\")\n",
        "            return True\n",
        "        else:\n",
        "            print(\"Ви не повнолітній!\")\n",
        "            return False\n",
        "    except ValueError:\n",
        "        print(\"Некоректне введення. Будь ласка, введіть числове значення.\")\n",
        "        return False\n"
      ],
      "metadata": {
        "id": "BLhhJzR7z0ug"
      },
      "id": "BLhhJzR7z0ug",
      "execution_count": 56,
      "outputs": []
    },
    {
      "cell_type": "code",
      "source": [
        "check_age(\"двадцять\")"
      ],
      "metadata": {
        "colab": {
          "base_uri": "https://localhost:8080/"
        },
        "id": "c_D7R5PB0oOU",
        "outputId": "62b80408-e24a-446e-f5b0-3d2987b7223d"
      },
      "id": "c_D7R5PB0oOU",
      "execution_count": 54,
      "outputs": [
        {
          "output_type": "execute_result",
          "data": {
            "text/plain": [
              "('Некоректне введення. Будь ласка, введіть числове значення.', False)"
            ]
          },
          "metadata": {},
          "execution_count": 54
        }
      ]
    },
    {
      "cell_type": "markdown",
      "source": [
        "Продемонструйте результати робити функції запустивши код нижче."
      ],
      "metadata": {
        "id": "huphMh7YR2GJ"
      },
      "id": "huphMh7YR2GJ"
    },
    {
      "cell_type": "code",
      "source": [
        "test_inputs = [\"двадцять\", \"17\", \"18\"]\n",
        "results = [check_age(input_value) for input_value in test_inputs]\n",
        "results"
      ],
      "metadata": {
        "id": "YuEQrntVRgSE",
        "colab": {
          "base_uri": "https://localhost:8080/"
        },
        "outputId": "c0e86f08-2fb1-4e92-8edf-d08cae6c8639"
      },
      "execution_count": 57,
      "outputs": [
        {
          "output_type": "stream",
          "name": "stdout",
          "text": [
            "Некоректне введення. Будь ласка, введіть числове значення.\n",
            "Ви не повнолітній!\n",
            "Ви повнолітній.\n"
          ]
        },
        {
          "output_type": "execute_result",
          "data": {
            "text/plain": [
              "[False, False, True]"
            ]
          },
          "metadata": {},
          "execution_count": 57
        }
      ],
      "id": "YuEQrntVRgSE"
    },
    {
      "cell_type": "markdown",
      "source": [
        "4. **Обчислення середнього з перевіркою:** Напишіть функцію `calculate_average`, яка приймає на вхід список чисел і обчислює середнє арифметичне значення цих чисел. Функція повинна перевіряти, що всі елементи списку є числами. Якщо серед елементів списку зустрічається елемент, який не є числом, функція повинна вивести повідомлення `\"Всі елементи повинні бути числами\"` і повернути `None`.\n",
        "\n",
        "  **Приклади виклику функції:**\n",
        "\n",
        "  - `calculate_average([1, 2, 3, 4, 5])` повинно повернути `3.0`.\n",
        "  - `calculate_average([1, \"2\", 3])` повинно вивести `\"Всі елементи повинні бути числами\"` і повернути `None`.\n",
        "  - `calculate_average([-1.1, \"ф\", 4])` повинно вивести `\"Всі елементи повинні бути числами\"` і повернути `None`."
      ],
      "metadata": {
        "id": "CQg-zIJGTqjw"
      },
      "id": "CQg-zIJGTqjw"
    },
    {
      "cell_type": "code",
      "source": [
        "def calculate_average(data_list):\n",
        "    try:\n",
        "      for item in data_list:\n",
        "         if not isinstance(item, (int, float)):\n",
        "                raise ValueError\n",
        "      return sum(data_list) / len(data_list)\n",
        "    except ValueError:\n",
        "        print(\"Всі елементи повинні бути числами\")\n",
        "        return None"
      ],
      "metadata": {
        "id": "D8LG05KYgO0V"
      },
      "id": "D8LG05KYgO0V",
      "execution_count": 58,
      "outputs": []
    },
    {
      "cell_type": "code",
      "source": [
        "#варіант 2. По іншому написано return\n",
        "def calculate_average(data_list):\n",
        "    try:\n",
        "      for item in data_list:\n",
        "         if not isinstance(item, (int, float)):\n",
        "                raise ValueError\n",
        "      return sum(data_list) / len(data_list)\n",
        "    except ValueError:\n",
        "        return (\"Всі елементи повинні бути числами\"), None"
      ],
      "metadata": {
        "id": "wJB2Xn10i-cN"
      },
      "id": "wJB2Xn10i-cN",
      "execution_count": 27,
      "outputs": []
    },
    {
      "cell_type": "code",
      "source": [
        "calculate_average([1, 2, 3, 4, 5])"
      ],
      "metadata": {
        "colab": {
          "base_uri": "https://localhost:8080/"
        },
        "id": "MDN5ouuguXBB",
        "outputId": "35b0ac40-39ee-41c3-efe1-ad36418ef42a"
      },
      "id": "MDN5ouuguXBB",
      "execution_count": 59,
      "outputs": [
        {
          "output_type": "execute_result",
          "data": {
            "text/plain": [
              "3.0"
            ]
          },
          "metadata": {},
          "execution_count": 59
        }
      ]
    },
    {
      "cell_type": "code",
      "source": [
        "calculate_average([1, \"2\", 3])"
      ],
      "metadata": {
        "colab": {
          "base_uri": "https://localhost:8080/"
        },
        "id": "NtPngzkYuWzZ",
        "outputId": "be23bb6a-0d0e-4523-ff0e-afa63188b10b"
      },
      "id": "NtPngzkYuWzZ",
      "execution_count": 60,
      "outputs": [
        {
          "output_type": "stream",
          "name": "stdout",
          "text": [
            "Всі елементи повинні бути числами\n"
          ]
        }
      ]
    },
    {
      "cell_type": "code",
      "source": [
        "print(calculate_average([-1.1, \"ф\", 4]))"
      ],
      "metadata": {
        "colab": {
          "base_uri": "https://localhost:8080/"
        },
        "id": "ufWu51gQuWU7",
        "outputId": "f8da7abf-7ddb-46aa-c45c-76e0e1bd3212"
      },
      "id": "ufWu51gQuWU7",
      "execution_count": 61,
      "outputs": [
        {
          "output_type": "stream",
          "name": "stdout",
          "text": [
            "Всі елементи повинні бути числами\n",
            "None\n"
          ]
        }
      ]
    },
    {
      "cell_type": "markdown",
      "source": [
        "Продемонструйте результати робити функції запустивши код нижче."
      ],
      "metadata": {
        "id": "ib-JWKKmUeF8"
      },
      "id": "ib-JWKKmUeF8"
    },
    {
      "cell_type": "code",
      "source": [
        "test_data = [\n",
        "    [1, 2, 3, 4, 5],  # Коректні дані\n",
        "    [1, \"2\", 3],      # Некоректні дані\n",
        "   [10, 20, 30],     # Коректні дані\n",
        "   [-1.1, \"ф\", 4]   # Некоректні дані\n",
        "]\n",
        "\n",
        "#test_data = [[1, 2, 3, 4, 5],[1]]\n",
        "results = [calculate_average(data) for data in test_data]\n",
        "results"
      ],
      "metadata": {
        "id": "axEmZx0rUNqT",
        "colab": {
          "base_uri": "https://localhost:8080/"
        },
        "outputId": "a221d6ec-1df3-4c52-ff30-1312994bcb48"
      },
      "execution_count": 33,
      "outputs": [
        {
          "output_type": "execute_result",
          "data": {
            "text/plain": [
              "[3.0,\n",
              " ('Всі елементи повинні бути числами', None),\n",
              " 20.0,\n",
              " ('Всі елементи повинні бути числами', None)]"
            ]
          },
          "metadata": {},
          "execution_count": 33
        }
      ],
      "id": "axEmZx0rUNqT"
    }
  ],
  "metadata": {
    "kernelspec": {
      "display_name": "Python 3 (ipykernel)",
      "language": "python",
      "name": "python3"
    },
    "language_info": {
      "codemirror_mode": {
        "name": "ipython",
        "version": 3
      },
      "file_extension": ".py",
      "mimetype": "text/x-python",
      "name": "python",
      "nbconvert_exporter": "python",
      "pygments_lexer": "ipython3",
      "version": "3.10.4"
    },
    "toc": {
      "base_numbering": 1,
      "nav_menu": {},
      "number_sections": true,
      "sideBar": true,
      "skip_h1_title": false,
      "title_cell": "Table of Contents",
      "title_sidebar": "Contents",
      "toc_cell": false,
      "toc_position": {},
      "toc_section_display": true,
      "toc_window_display": false
    },
    "colab": {
      "provenance": [],
      "include_colab_link": true
    }
  },
  "nbformat": 4,
  "nbformat_minor": 5
}